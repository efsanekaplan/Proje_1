{
  "nbformat": 4,
  "nbformat_minor": 0,
  "metadata": {
    "colab": {
      "name": "project1.ipynb",
      "provenance": [],
      "authorship_tag": "ABX9TyMG9zeif5h5jN8aWAFtOplV",
      "include_colab_link": true
    },
    "kernelspec": {
      "name": "python3",
      "display_name": "Python 3"
    },
    "language_info": {
      "name": "python"
    }
  },
  "cells": [
    {
      "cell_type": "markdown",
      "metadata": {
        "id": "view-in-github",
        "colab_type": "text"
      },
      "source": [
        "<a href=\"https://colab.research.google.com/github/evsanekaplan/Proje_1/blob/main/project1.ipynb\" target=\"_parent\"><img src=\"https://colab.research.google.com/assets/colab-badge.svg\" alt=\"Open In Colab\"/></a>"
      ]
    },
    {
      "cell_type": "code",
      "source": [
        "student_list = [ (\"Antanina\" ,\"Juárez\" ,171, 82),\n",
        "                      (\"Gigi\", \"Antonov\", 518, 65),\n",
        "                      (\"Merari\", \"Gaspar\", 314, 15),\n",
        "                       (\"Felicia\", \"Bristol\", 987, 48),\n",
        "                       (\"Odin\", \"Anker\", 288, 57),\n",
        "                       (\"Monica\", \"O'Leary\", 629, 89),\n",
        "                       (\"Trefor\", \"Brandon\" ,295, 46),\n",
        "                       (\"Sergio\", \"Lyons\" ,780, 29),\n",
        "                       (\"Emilee\", \"Anderson\" ,353, 83),\n",
        "                       (\"Aziz\", \"Avcı\" ,849, 95),\n",
        "                       (\"Dimitris\", \"Georgiou\" ,581, 100),\n",
        "                       (\"Marius\", \"Lambert\", 476, 42),\n",
        "                       (\"Sybille\", \"Lucas\", 774, 73),\n",
        "                       (\"Paul\", \"Julien\", 683, 85),\n",
        "                       (\"Aygül\", \"Ekmekçi\" , 242, 20)]"
      ],
      "metadata": {
        "id": "bDfYRjie7pj5"
      },
      "execution_count": 63,
      "outputs": []
    },
    {
      "cell_type": "code",
      "execution_count": 33,
      "metadata": {
        "id": "r8s98JHM5y-D"
      },
      "outputs": [],
      "source": [
        "def compute_grade(points):\n",
        "  if points>= 90:\n",
        "    return \"A\"\n",
        "  elif points>=75:\n",
        "    return \"B\"\n",
        "  elif points>=55:\n",
        "    return \"C\"\n",
        "  elif points>=35:\n",
        "    return \"D\"\n",
        "  else:\n",
        "    return \"F\""
      ]
    },
    {
      "cell_type": "code",
      "source": [
        "grades_file = open(\"grades.txt\",\"w\")\n",
        "\n",
        "for student_name,student_surname, student_no, points in student_list:\n",
        "    grade = compute_grade(points)\n",
        "    if grade == \"A\":\n",
        "      pass_fail = \"Pass\"\n",
        "    elif grade == \"B\":\n",
        "       pass_fail = \"Pass\"\n",
        "    elif grade == \"C\":\n",
        "      pass_fail = \"Pass\"\n",
        "    else:\n",
        "      pass_fail = \"Fail\"\n",
        "    grades_file.write(str(student_no) +\"-\" + student_name +\" \" + student_surname+\"-\" + pass_fail +  \"\\n\")"
      ],
      "metadata": {
        "id": "mEKgXHmBGEYF"
      },
      "execution_count": 70,
      "outputs": []
    },
    {
      "cell_type": "code",
      "source": [
        "grades_file.close()"
      ],
      "metadata": {
        "id": "KSwETa6IOFxm"
      },
      "execution_count": 71,
      "outputs": []
    },
    {
      "cell_type": "code",
      "source": [
        "import pandas as pd\n",
        "\n",
        "data = pd.read_csv('grades.txt', sep= \"-\", header=None)\n",
        "\n",
        "data.columns = [\"Student Number\" ,\"Student Name\" , \"Status\"]\n",
        "\n",
        "print(data)"
      ],
      "metadata": {
        "colab": {
          "base_uri": "https://localhost:8080/"
        },
        "id": "joDbKdtyRa1T",
        "outputId": "a57cd393-4f6e-475a-8a0b-924268363c20"
      },
      "execution_count": 72,
      "outputs": [
        {
          "output_type": "stream",
          "name": "stdout",
          "text": [
            "    Student Number       Student Name Status\n",
            "0              171    Antanina Juárez   Pass\n",
            "1              518       Gigi Antonov   Pass\n",
            "2              314      Merari Gaspar   Fail\n",
            "3              987    Felicia Bristol   Fail\n",
            "4              288         Odin Anker   Pass\n",
            "5              629     Monica O'Leary   Pass\n",
            "6              295     Trefor Brandon   Fail\n",
            "7              780       Sergio Lyons   Fail\n",
            "8              353    Emilee Anderson   Pass\n",
            "9              849          Aziz Avcı   Pass\n",
            "10             581  Dimitris Georgiou   Pass\n",
            "11             476     Marius Lambert   Fail\n",
            "12             774      Sybille Lucas   Pass\n",
            "13             683        Paul Julien   Pass\n",
            "14             242      Aygül Ekmekçi   Fail\n"
          ]
        }
      ]
    },
    {
      "cell_type": "code",
      "source": [
        "file_name = 'GradesData.xlsx'\n",
        "data.to_excel(file_name)\n",
        "print('DataFrame is written to Excel File successfully.')"
      ],
      "metadata": {
        "colab": {
          "base_uri": "https://localhost:8080/"
        },
        "id": "J3CCgJTKT1nX",
        "outputId": "00c579bd-764e-4dfc-f391-9698a9bc3434"
      },
      "execution_count": 73,
      "outputs": [
        {
          "output_type": "stream",
          "name": "stdout",
          "text": [
            "DataFrame is written to Excel File successfully.\n"
          ]
        }
      ]
    },
    {
      "cell_type": "markdown",
      "source": [
        ""
      ],
      "metadata": {
        "id": "MyGkHsSIAMm7"
      }
    }
  ]
}